{
 "cells": [
  {
   "cell_type": "code",
   "execution_count": 17,
   "metadata": {},
   "outputs": [],
   "source": [
    "#importig required libraries\n",
    "\n",
    "import pandas as pd\n",
    "import matplotlib.pyplot as plt\n",
    "import math\n",
    "import numpy as np"
   ]
  },
  {
   "cell_type": "code",
   "execution_count": 2,
   "metadata": {},
   "outputs": [
    {
     "name": "stdout",
     "output_type": "stream",
     "text": [
      "D:\\datascience\n"
     ]
    }
   ],
   "source": [
    "#Using windows machine so changed the working directory to \n",
    "#where file is present\n",
    "\n",
    "cd D:\\datascience"
   ]
  },
  {
   "cell_type": "code",
   "execution_count": 3,
   "metadata": {},
   "outputs": [
    {
     "data": {
      "text/plain": [
       "count      21,613.0000\n",
       "mean      540,088.1418\n",
       "std       367,127.1965\n",
       "min        75,000.0000\n",
       "25%       321,950.0000\n",
       "50%       450,000.0000\n",
       "75%       645,000.0000\n",
       "max     7,700,000.0000\n",
       "Name: price, dtype: float64"
      ]
     },
     "execution_count": 3,
     "metadata": {},
     "output_type": "execute_result"
    }
   ],
   "source": [
    "#Read The Data File\n",
    "df= pd.read_csv('aSawData2.csv')\n",
    "\n",
    "#data has exponential value so making it as a float number\n",
    "pd.options.display.float_format='{:,.4f}'.format\n",
    "df.head()\n",
    "df.price.describe()"
   ]
  },
  {
   "cell_type": "code",
   "execution_count": 5,
   "metadata": {},
   "outputs": [
    {
     "data": {
      "image/png": "[encoded data removed]",
      "text/plain": [
       "<Figure size 432x288 with 1 Axes>"
      ]
     },
     "metadata": {},
     "output_type": "display_data"
    }
   ],
   "source": [
    "#1)plotting distribution of price variable as it is\n",
    "#without checking for normalisation of data\n",
    "plt.hist(df.price,bins=100)\n",
    "plt.show()"
   ]
  },
  {
   "cell_type": "code",
   "execution_count": 6,
   "metadata": {},
   "outputs": [
    {
     "name": "stdout",
     "output_type": "stream",
     "text": [
      "the skewness of the data is:  4.024069144684712\n"
     ]
    }
   ],
   "source": [
    "#to check the skewness of the data.\n",
    "print('the skewness of the data is: ', df.price.skew())\n"
   ]
  },
  {
   "cell_type": "code",
   "execution_count": 7,
   "metadata": {},
   "outputs": [],
   "source": [
    "#the data is said to be almost normalized as the skew value nears to 0.\n",
    "#the above value suggests that data is not normalized \n",
    "#and by figure above we can say that its positively skewed data."
   ]
  },
  {
   "cell_type": "code",
   "execution_count": 8,
   "metadata": {},
   "outputs": [
    {
     "name": "stdout",
     "output_type": "stream",
     "text": [
      "the skew of target is:  0.42807247557592526\n"
     ]
    },
    {
     "data": {
      "image/png": "[encoded data removed]",
      "text/plain": [
       "<Figure size 432x288 with 1 Axes>"
      ]
     },
     "metadata": {},
     "output_type": "display_data"
    }
   ],
   "source": [
    "#to make the data normalized by reducing the skewness.\n",
    "target=np.log(df.price) #normalizing the values by using log transformation\n",
    "\n",
    "print('the skew of target is: ',target.skew())\n",
    "plt.hist(target)\n",
    "plt.show()"
   ]
  },
  {
   "cell_type": "code",
   "execution_count": 9,
   "metadata": {},
   "outputs": [
    {
     "data": {
      "text/plain": [
       "[]"
      ]
     },
     "execution_count": 9,
     "metadata": {},
     "output_type": "execute_result"
    },
    {
     "data": {
      "image/png": "[encoded data removed]",
      "text/plain": [
       "<Figure size 432x288 with 1 Axes>"
      ]
     },
     "metadata": {},
     "output_type": "display_data"
    }
   ],
   "source": [
    "#box plot of the price variable.\n",
    "df.boxplot(column='price')\n",
    "plt.plot()"
   ]
  },
  {
   "cell_type": "code",
   "execution_count": 10,
   "metadata": {},
   "outputs": [
    {
     "data": {
      "text/html": [
       "<div>\n",
       "<style scoped>\n",
       "    .dataframe tbody tr th:only-of-type {\n",
       "        vertical-align: middle;\n",
       "    }\n",
       "\n",
       "    .dataframe tbody tr th {\n",
       "        vertical-align: top;\n",
       "    }\n",
       "\n",
       "    .dataframe thead th {\n",
       "        text-align: right;\n",
       "    }\n",
       "</style>\n",
       "<table border=\"1\" class=\"dataframe\">\n",
       "  <thead>\n",
       "    <tr style=\"text-align: right;\">\n",
       "      <th></th>\n",
       "      <th>id</th>\n",
       "      <th>price</th>\n",
       "      <th>bedrooms</th>\n",
       "      <th>bathrooms</th>\n",
       "      <th>sqft_living</th>\n",
       "      <th>sqft_lot</th>\n",
       "      <th>floors</th>\n",
       "      <th>waterfront</th>\n",
       "      <th>view</th>\n",
       "      <th>condition</th>\n",
       "      <th>grade</th>\n",
       "      <th>sqft_above</th>\n",
       "      <th>sqft_basement</th>\n",
       "      <th>yr_built</th>\n",
       "      <th>yr_renovated</th>\n",
       "      <th>zipcode</th>\n",
       "      <th>lat</th>\n",
       "      <th>long</th>\n",
       "      <th>sqft_living15</th>\n",
       "      <th>sqft_lot15</th>\n",
       "    </tr>\n",
       "  </thead>\n",
       "  <tbody>\n",
       "    <tr>\n",
       "      <th>0.1000</th>\n",
       "      <td>1,036,000,346.0000</td>\n",
       "      <td>245,000.0000</td>\n",
       "      <td>2.0000</td>\n",
       "      <td>1.0000</td>\n",
       "      <td>1,090.0000</td>\n",
       "      <td>3,322.2000</td>\n",
       "      <td>1.0000</td>\n",
       "      <td>0.0000</td>\n",
       "      <td>0.0000</td>\n",
       "      <td>3.0000</td>\n",
       "      <td>6.0000</td>\n",
       "      <td>970.0000</td>\n",
       "      <td>0.0000</td>\n",
       "      <td>1,926.0000</td>\n",
       "      <td>0.0000</td>\n",
       "      <td>98,008.0000</td>\n",
       "      <td>47.3503</td>\n",
       "      <td>-122.3720</td>\n",
       "      <td>1,256.0000</td>\n",
       "      <td>3,666.6000</td>\n",
       "    </tr>\n",
       "    <tr>\n",
       "      <th>0.9500</th>\n",
       "      <td>9,297,300,429.0000</td>\n",
       "      <td>1,156,480.0000</td>\n",
       "      <td>5.0000</td>\n",
       "      <td>3.5000</td>\n",
       "      <td>3,760.0000</td>\n",
       "      <td>43,339.2000</td>\n",
       "      <td>2.0000</td>\n",
       "      <td>0.0000</td>\n",
       "      <td>2.0000</td>\n",
       "      <td>5.0000</td>\n",
       "      <td>10.0000</td>\n",
       "      <td>3,400.0000</td>\n",
       "      <td>1,190.0000</td>\n",
       "      <td>2,011.0000</td>\n",
       "      <td>0.0000</td>\n",
       "      <td>98,177.0000</td>\n",
       "      <td>47.7496</td>\n",
       "      <td>-121.9790</td>\n",
       "      <td>3,300.0000</td>\n",
       "      <td>37,062.8000</td>\n",
       "    </tr>\n",
       "  </tbody>\n",
       "</table>\n",
       "</div>"
      ],
      "text/plain": [
       "                       id          price  bedrooms  bathrooms  sqft_living  \\\n",
       "0.1000 1,036,000,346.0000   245,000.0000    2.0000     1.0000   1,090.0000   \n",
       "0.9500 9,297,300,429.0000 1,156,480.0000    5.0000     3.5000   3,760.0000   \n",
       "\n",
       "          sqft_lot  floors  waterfront   view  condition   grade  sqft_above  \\\n",
       "0.1000  3,322.2000  1.0000      0.0000 0.0000     3.0000  6.0000    970.0000   \n",
       "0.9500 43,339.2000  2.0000      0.0000 2.0000     5.0000 10.0000  3,400.0000   \n",
       "\n",
       "        sqft_basement   yr_built  yr_renovated     zipcode     lat      long  \\\n",
       "0.1000         0.0000 1,926.0000        0.0000 98,008.0000 47.3503 -122.3720   \n",
       "0.9500     1,190.0000 2,011.0000        0.0000 98,177.0000 47.7496 -121.9790   \n",
       "\n",
       "        sqft_living15  sqft_lot15  \n",
       "0.1000     1,256.0000  3,666.6000  \n",
       "0.9500     3,300.0000 37,062.8000  "
      ]
     },
     "execution_count": 10,
     "metadata": {},
     "output_type": "execute_result"
    }
   ],
   "source": [
    "#to find outliers we use bounding method to using quantile function \n",
    "#which gives the percentile value\n",
    "\n",
    "lb=0.1 #lower bound\n",
    "ub=.95 #upper bound\n",
    "\n",
    "res=df.quantile([lb,ub])\n",
    "res"
   ]
  },
  {
   "cell_type": "code",
   "execution_count": 11,
   "metadata": {},
   "outputs": [
    {
     "data": {
      "text/plain": [
       "array([False,  True, False, ...,  True,  True,  True])"
      ]
     },
     "execution_count": 11,
     "metadata": {},
     "output_type": "execute_result"
    }
   ],
   "source": [
    "#calculating the non outliers and outliers\n",
    "true_value= (res.loc[lb].price < df.price.values) & (df.price.values < res.loc[ub].price)\n",
    "true_value #false indicates outliers"
   ]
  },
  {
   "cell_type": "code",
   "execution_count": 12,
   "metadata": {},
   "outputs": [
    {
     "data": {
      "text/plain": [
       "array([ True, False,  True, ..., False, False, False])"
      ]
     },
     "execution_count": 12,
     "metadata": {},
     "output_type": "execute_result"
    }
   ],
   "source": [
    "false_value=~true_value #calcuating outliers\n",
    "false_value"
   ]
  },
  {
   "cell_type": "code",
   "execution_count": 13,
   "metadata": {},
   "outputs": [
    {
     "data": {
      "text/plain": [
       "0         221900\n",
       "2         180000\n",
       "5        1225000\n",
       "8         229500\n",
       "18        189000\n",
       "19        230000\n",
       "21       2000000\n",
       "25        233000\n",
       "38        240000\n",
       "46        210490\n",
       "49       1350000\n",
       "50        228000\n",
       "68        204000\n",
       "69       1325000\n",
       "88        215000\n",
       "90        243500\n",
       "92        153000\n",
       "97        199000\n",
       "107       188500\n",
       "117       205425\n",
       "118       171800\n",
       "125      1450000\n",
       "130       212000\n",
       "135       199000\n",
       "136       220000\n",
       "142       205000\n",
       "153      2250000\n",
       "155       215000\n",
       "183       163500\n",
       "191       166950\n",
       "          ...   \n",
       "21321    1350000\n",
       "21323    1500000\n",
       "21332     245000\n",
       "21333    1999950\n",
       "21344    1488000\n",
       "21368    2065000\n",
       "21375    1174660\n",
       "21383    1765000\n",
       "21451     239950\n",
       "21467    1987500\n",
       "21473    1750000\n",
       "21485    1720000\n",
       "21486    1459000\n",
       "21505    1555000\n",
       "21506    2238890\n",
       "21514    1865000\n",
       "21520    1408760\n",
       "21521    1378000\n",
       "21525    1450000\n",
       "21530    3000000\n",
       "21532    1325000\n",
       "21540    1881580\n",
       "21551    1375000\n",
       "21568    1700000\n",
       "21572     230000\n",
       "21576    3567000\n",
       "21590    1222500\n",
       "21597    1575000\n",
       "21600    1537000\n",
       "21602     224000\n",
       "Name: price, Length: 3251, dtype: int64"
      ]
     },
     "execution_count": 13,
     "metadata": {},
     "output_type": "execute_result"
    }
   ],
   "source": [
    "#displaying outliers for price variable\n",
    "df.price[false_value]"
   ]
  },
  {
   "cell_type": "code",
   "execution_count": 14,
   "metadata": {},
   "outputs": [],
   "source": [
    "#the above method to finding outliers can be used \n",
    "#for different variables also"
   ]
  },
  {
   "cell_type": "code",
   "execution_count": 15,
   "metadata": {},
   "outputs": [
    {
     "name": "stdout",
     "output_type": "stream",
     "text": [
      "price           1.0000\n",
      "sqft_living     0.7020\n",
      "grade           0.6674\n",
      "sqft_above      0.6056\n",
      "sqft_living15   0.5854\n",
      "Name: price, dtype: float64 \n",
      "\n",
      "yr_built     0.0540\n",
      "condition    0.0364\n",
      "long         0.0216\n",
      "id          -0.0168\n",
      "zipcode     -0.0532\n",
      "Name: price, dtype: float64\n"
     ]
    }
   ],
   "source": [
    "#2) To find correlation between price and other variables\n",
    "correlation=df.corr()\n",
    "\n",
    "print(correlation.price.sort_values(ascending=False)[:5],'\\n')\n",
    "#the above value are most positively correlated variables\n",
    "print(correlation.price.sort_values(ascending=False)[-5:])\n",
    "#the above value are most negatively correlated variables"
   ]
  },
  {
   "cell_type": "code",
   "execution_count": 16,
   "metadata": {},
   "outputs": [],
   "source": [
    "#3) to find the highest to ten median price for  the zipcode\n",
    "loc=df.loc[:,['zipcode','price']] #creating dataframe to hold only zipcode and price variables\n",
    "\n",
    "#calculating the median price for  the zipcode\n",
    "zipcode_median_price=loc.query('price > price.median()').sort_values('price')"
   ]
  },
  {
   "cell_type": "code",
   "execution_count": 23,
   "metadata": {},
   "outputs": [
    {
     "data": {
      "image/png": "[encoded data removed]",
      "text/plain": [
       "<Figure size 432x288 with 1 Axes>"
      ]
     },
     "metadata": {},
     "output_type": "display_data"
    }
   ],
   "source": [
    "#calculating the top 10 highest median price for zipcode\n",
    "zipcode_median_price=zipcode_median_price.head(10)\n",
    "\n",
    "\n",
    "#bar blotting for the top 10 highest median price for zipcode\n",
    "\n",
    "y_pos=np.arange(len(zipcode_median_price.zipcode))\n",
    "low=zipcode_median_price.price.min()\n",
    "high=zipcode_median_price.price.max()\n",
    "\n",
    "plt.ylim([math.ceil(low-100),math.ceil(high+100)])\n",
    "plt.bar(y_pos,zipcode_median_price.price,width=.25)\n",
    "\n",
    "plt.xticks(y_pos,zipcode_median_price.zipcode)\n",
    "plt.show()"
   ]
  },
  {
   "cell_type": "code",
   "execution_count": 24,
   "metadata": {},
   "outputs": [
    {
     "name": "stdout",
     "output_type": "stream",
     "text": [
      "id                   0\n",
      "date                 0\n",
      "price                0\n",
      "bedrooms            13\n",
      "bathrooms           10\n",
      "sqft_living          0\n",
      "sqft_lot             0\n",
      "floors               0\n",
      "waterfront       21450\n",
      "view             19489\n",
      "condition            0\n",
      "grade                0\n",
      "sqft_above           0\n",
      "sqft_basement    13126\n",
      "yr_built             0\n",
      "yr_renovated     20699\n",
      "zipcode              0\n",
      "lat                  0\n",
      "long                 0\n",
      "sqft_living15        0\n",
      "sqft_lot15           0\n",
      "dtype: int64\n"
     ]
    }
   ],
   "source": [
    "#4) to Find the missing values count in each of the columns\n",
    "print((df==0).sum())"
   ]
  },
  {
   "cell_type": "code",
   "execution_count": 25,
   "metadata": {},
   "outputs": [],
   "source": [
    "#to replace 0 with NaN followed by mean of respective columns\n",
    "df_nan=df.replace(0,np.NaN)\n",
    "df_nan=df_nan.fillna(df.mean())"
   ]
  },
  {
   "cell_type": "code",
   "execution_count": 26,
   "metadata": {},
   "outputs": [
    {
     "name": "stdout",
     "output_type": "stream",
     "text": [
      "id               0\n",
      "date             0\n",
      "price            0\n",
      "bedrooms         0\n",
      "bathrooms        0\n",
      "sqft_living      0\n",
      "sqft_lot         0\n",
      "floors           0\n",
      "waterfront       0\n",
      "view             0\n",
      "condition        0\n",
      "grade            0\n",
      "sqft_above       0\n",
      "sqft_basement    0\n",
      "yr_built         0\n",
      "yr_renovated     0\n",
      "zipcode          0\n",
      "lat              0\n",
      "long             0\n",
      "sqft_living15    0\n",
      "sqft_lot15       0\n",
      "dtype: int64\n"
     ]
    },
    {
     "data": {
      "text/html": [
       "<div>\n",
       "<style scoped>\n",
       "    .dataframe tbody tr th:only-of-type {\n",
       "        vertical-align: middle;\n",
       "    }\n",
       "\n",
       "    .dataframe tbody tr th {\n",
       "        vertical-align: top;\n",
       "    }\n",
       "\n",
       "    .dataframe thead th {\n",
       "        text-align: right;\n",
       "    }\n",
       "</style>\n",
       "<table border=\"1\" class=\"dataframe\">\n",
       "  <thead>\n",
       "    <tr style=\"text-align: right;\">\n",
       "      <th></th>\n",
       "      <th>id</th>\n",
       "      <th>date</th>\n",
       "      <th>price</th>\n",
       "      <th>bedrooms</th>\n",
       "      <th>bathrooms</th>\n",
       "      <th>sqft_living</th>\n",
       "      <th>sqft_lot</th>\n",
       "      <th>floors</th>\n",
       "      <th>waterfront</th>\n",
       "      <th>view</th>\n",
       "      <th>...</th>\n",
       "      <th>grade</th>\n",
       "      <th>sqft_above</th>\n",
       "      <th>sqft_basement</th>\n",
       "      <th>yr_built</th>\n",
       "      <th>yr_renovated</th>\n",
       "      <th>zipcode</th>\n",
       "      <th>lat</th>\n",
       "      <th>long</th>\n",
       "      <th>sqft_living15</th>\n",
       "      <th>sqft_lot15</th>\n",
       "    </tr>\n",
       "  </thead>\n",
       "  <tbody>\n",
       "    <tr>\n",
       "      <th>0</th>\n",
       "      <td>7129300520</td>\n",
       "      <td>20141013T000000</td>\n",
       "      <td>221900</td>\n",
       "      <td>3.0000</td>\n",
       "      <td>1.0000</td>\n",
       "      <td>1180</td>\n",
       "      <td>5650</td>\n",
       "      <td>1.0000</td>\n",
       "      <td>0.0075</td>\n",
       "      <td>0.2343</td>\n",
       "      <td>...</td>\n",
       "      <td>7</td>\n",
       "      <td>1180</td>\n",
       "      <td>291.5090</td>\n",
       "      <td>1955</td>\n",
       "      <td>84.4023</td>\n",
       "      <td>98178</td>\n",
       "      <td>47.5112</td>\n",
       "      <td>-122.2570</td>\n",
       "      <td>1340</td>\n",
       "      <td>5650</td>\n",
       "    </tr>\n",
       "    <tr>\n",
       "      <th>1</th>\n",
       "      <td>6414100192</td>\n",
       "      <td>20141209T000000</td>\n",
       "      <td>538000</td>\n",
       "      <td>3.0000</td>\n",
       "      <td>2.2500</td>\n",
       "      <td>2570</td>\n",
       "      <td>7242</td>\n",
       "      <td>2.0000</td>\n",
       "      <td>0.0075</td>\n",
       "      <td>0.2343</td>\n",
       "      <td>...</td>\n",
       "      <td>7</td>\n",
       "      <td>2170</td>\n",
       "      <td>400.0000</td>\n",
       "      <td>1951</td>\n",
       "      <td>1,991.0000</td>\n",
       "      <td>98125</td>\n",
       "      <td>47.7210</td>\n",
       "      <td>-122.3190</td>\n",
       "      <td>1690</td>\n",
       "      <td>7639</td>\n",
       "    </tr>\n",
       "    <tr>\n",
       "      <th>2</th>\n",
       "      <td>5631500400</td>\n",
       "      <td>20150225T000000</td>\n",
       "      <td>180000</td>\n",
       "      <td>2.0000</td>\n",
       "      <td>1.0000</td>\n",
       "      <td>770</td>\n",
       "      <td>10000</td>\n",
       "      <td>1.0000</td>\n",
       "      <td>0.0075</td>\n",
       "      <td>0.2343</td>\n",
       "      <td>...</td>\n",
       "      <td>6</td>\n",
       "      <td>770</td>\n",
       "      <td>291.5090</td>\n",
       "      <td>1933</td>\n",
       "      <td>84.4023</td>\n",
       "      <td>98028</td>\n",
       "      <td>47.7379</td>\n",
       "      <td>-122.2330</td>\n",
       "      <td>2720</td>\n",
       "      <td>8062</td>\n",
       "    </tr>\n",
       "    <tr>\n",
       "      <th>3</th>\n",
       "      <td>2487200875</td>\n",
       "      <td>20141209T000000</td>\n",
       "      <td>604000</td>\n",
       "      <td>4.0000</td>\n",
       "      <td>3.0000</td>\n",
       "      <td>1960</td>\n",
       "      <td>5000</td>\n",
       "      <td>1.0000</td>\n",
       "      <td>0.0075</td>\n",
       "      <td>0.2343</td>\n",
       "      <td>...</td>\n",
       "      <td>7</td>\n",
       "      <td>1050</td>\n",
       "      <td>910.0000</td>\n",
       "      <td>1965</td>\n",
       "      <td>84.4023</td>\n",
       "      <td>98136</td>\n",
       "      <td>47.5208</td>\n",
       "      <td>-122.3930</td>\n",
       "      <td>1360</td>\n",
       "      <td>5000</td>\n",
       "    </tr>\n",
       "    <tr>\n",
       "      <th>4</th>\n",
       "      <td>1954400510</td>\n",
       "      <td>20150218T000000</td>\n",
       "      <td>510000</td>\n",
       "      <td>3.0000</td>\n",
       "      <td>2.0000</td>\n",
       "      <td>1680</td>\n",
       "      <td>8080</td>\n",
       "      <td>1.0000</td>\n",
       "      <td>0.0075</td>\n",
       "      <td>0.2343</td>\n",
       "      <td>...</td>\n",
       "      <td>8</td>\n",
       "      <td>1680</td>\n",
       "      <td>291.5090</td>\n",
       "      <td>1987</td>\n",
       "      <td>84.4023</td>\n",
       "      <td>98074</td>\n",
       "      <td>47.6168</td>\n",
       "      <td>-122.0450</td>\n",
       "      <td>1800</td>\n",
       "      <td>7503</td>\n",
       "    </tr>\n",
       "    <tr>\n",
       "      <th>5</th>\n",
       "      <td>7237550310</td>\n",
       "      <td>20140512T000000</td>\n",
       "      <td>1225000</td>\n",
       "      <td>4.0000</td>\n",
       "      <td>4.5000</td>\n",
       "      <td>5420</td>\n",
       "      <td>101930</td>\n",
       "      <td>1.0000</td>\n",
       "      <td>0.0075</td>\n",
       "      <td>0.2343</td>\n",
       "      <td>...</td>\n",
       "      <td>11</td>\n",
       "      <td>3890</td>\n",
       "      <td>1,530.0000</td>\n",
       "      <td>2001</td>\n",
       "      <td>84.4023</td>\n",
       "      <td>98053</td>\n",
       "      <td>47.6561</td>\n",
       "      <td>-122.0050</td>\n",
       "      <td>4760</td>\n",
       "      <td>101930</td>\n",
       "    </tr>\n",
       "    <tr>\n",
       "      <th>6</th>\n",
       "      <td>1321400060</td>\n",
       "      <td>20140627T000000</td>\n",
       "      <td>257500</td>\n",
       "      <td>3.0000</td>\n",
       "      <td>2.2500</td>\n",
       "      <td>1715</td>\n",
       "      <td>6819</td>\n",
       "      <td>2.0000</td>\n",
       "      <td>0.0075</td>\n",
       "      <td>0.2343</td>\n",
       "      <td>...</td>\n",
       "      <td>7</td>\n",
       "      <td>1715</td>\n",
       "      <td>291.5090</td>\n",
       "      <td>1995</td>\n",
       "      <td>84.4023</td>\n",
       "      <td>98003</td>\n",
       "      <td>47.3097</td>\n",
       "      <td>-122.3270</td>\n",
       "      <td>2238</td>\n",
       "      <td>6819</td>\n",
       "    </tr>\n",
       "    <tr>\n",
       "      <th>7</th>\n",
       "      <td>2008000270</td>\n",
       "      <td>20150115T000000</td>\n",
       "      <td>291850</td>\n",
       "      <td>3.0000</td>\n",
       "      <td>1.5000</td>\n",
       "      <td>1060</td>\n",
       "      <td>9711</td>\n",
       "      <td>1.0000</td>\n",
       "      <td>0.0075</td>\n",
       "      <td>0.2343</td>\n",
       "      <td>...</td>\n",
       "      <td>7</td>\n",
       "      <td>1060</td>\n",
       "      <td>291.5090</td>\n",
       "      <td>1963</td>\n",
       "      <td>84.4023</td>\n",
       "      <td>98198</td>\n",
       "      <td>47.4095</td>\n",
       "      <td>-122.3150</td>\n",
       "      <td>1650</td>\n",
       "      <td>9711</td>\n",
       "    </tr>\n",
       "    <tr>\n",
       "      <th>8</th>\n",
       "      <td>2414600126</td>\n",
       "      <td>20150415T000000</td>\n",
       "      <td>229500</td>\n",
       "      <td>3.0000</td>\n",
       "      <td>1.0000</td>\n",
       "      <td>1780</td>\n",
       "      <td>7470</td>\n",
       "      <td>1.0000</td>\n",
       "      <td>0.0075</td>\n",
       "      <td>0.2343</td>\n",
       "      <td>...</td>\n",
       "      <td>7</td>\n",
       "      <td>1050</td>\n",
       "      <td>730.0000</td>\n",
       "      <td>1960</td>\n",
       "      <td>84.4023</td>\n",
       "      <td>98146</td>\n",
       "      <td>47.5123</td>\n",
       "      <td>-122.3370</td>\n",
       "      <td>1780</td>\n",
       "      <td>8113</td>\n",
       "    </tr>\n",
       "    <tr>\n",
       "      <th>9</th>\n",
       "      <td>3793500160</td>\n",
       "      <td>20150312T000000</td>\n",
       "      <td>323000</td>\n",
       "      <td>3.0000</td>\n",
       "      <td>2.5000</td>\n",
       "      <td>1890</td>\n",
       "      <td>6560</td>\n",
       "      <td>2.0000</td>\n",
       "      <td>0.0075</td>\n",
       "      <td>0.2343</td>\n",
       "      <td>...</td>\n",
       "      <td>7</td>\n",
       "      <td>1890</td>\n",
       "      <td>291.5090</td>\n",
       "      <td>2003</td>\n",
       "      <td>84.4023</td>\n",
       "      <td>98038</td>\n",
       "      <td>47.3684</td>\n",
       "      <td>-122.0310</td>\n",
       "      <td>2390</td>\n",
       "      <td>7570</td>\n",
       "    </tr>\n",
       "  </tbody>\n",
       "</table>\n",
       "<p>10 rows × 21 columns</p>\n",
       "</div>"
      ],
      "text/plain": [
       "           id             date    price  bedrooms  bathrooms  sqft_living  \\\n",
       "0  7129300520  20141013T000000   221900    3.0000     1.0000         1180   \n",
       "1  6414100192  20141209T000000   538000    3.0000     2.2500         2570   \n",
       "2  5631500400  20150225T000000   180000    2.0000     1.0000          770   \n",
       "3  2487200875  20141209T000000   604000    4.0000     3.0000         1960   \n",
       "4  1954400510  20150218T000000   510000    3.0000     2.0000         1680   \n",
       "5  7237550310  20140512T000000  1225000    4.0000     4.5000         5420   \n",
       "6  1321400060  20140627T000000   257500    3.0000     2.2500         1715   \n",
       "7  2008000270  20150115T000000   291850    3.0000     1.5000         1060   \n",
       "8  2414600126  20150415T000000   229500    3.0000     1.0000         1780   \n",
       "9  3793500160  20150312T000000   323000    3.0000     2.5000         1890   \n",
       "\n",
       "   sqft_lot  floors  waterfront   view     ...      grade  sqft_above  \\\n",
       "0      5650  1.0000      0.0075 0.2343     ...          7        1180   \n",
       "1      7242  2.0000      0.0075 0.2343     ...          7        2170   \n",
       "2     10000  1.0000      0.0075 0.2343     ...          6         770   \n",
       "3      5000  1.0000      0.0075 0.2343     ...          7        1050   \n",
       "4      8080  1.0000      0.0075 0.2343     ...          8        1680   \n",
       "5    101930  1.0000      0.0075 0.2343     ...         11        3890   \n",
       "6      6819  2.0000      0.0075 0.2343     ...          7        1715   \n",
       "7      9711  1.0000      0.0075 0.2343     ...          7        1060   \n",
       "8      7470  1.0000      0.0075 0.2343     ...          7        1050   \n",
       "9      6560  2.0000      0.0075 0.2343     ...          7        1890   \n",
       "\n",
       "   sqft_basement  yr_built  yr_renovated  zipcode     lat      long  \\\n",
       "0       291.5090      1955       84.4023    98178 47.5112 -122.2570   \n",
       "1       400.0000      1951    1,991.0000    98125 47.7210 -122.3190   \n",
       "2       291.5090      1933       84.4023    98028 47.7379 -122.2330   \n",
       "3       910.0000      1965       84.4023    98136 47.5208 -122.3930   \n",
       "4       291.5090      1987       84.4023    98074 47.6168 -122.0450   \n",
       "5     1,530.0000      2001       84.4023    98053 47.6561 -122.0050   \n",
       "6       291.5090      1995       84.4023    98003 47.3097 -122.3270   \n",
       "7       291.5090      1963       84.4023    98198 47.4095 -122.3150   \n",
       "8       730.0000      1960       84.4023    98146 47.5123 -122.3370   \n",
       "9       291.5090      2003       84.4023    98038 47.3684 -122.0310   \n",
       "\n",
       "   sqft_living15  sqft_lot15  \n",
       "0           1340        5650  \n",
       "1           1690        7639  \n",
       "2           2720        8062  \n",
       "3           1360        5000  \n",
       "4           1800        7503  \n",
       "5           4760      101930  \n",
       "6           2238        6819  \n",
       "7           1650        9711  \n",
       "8           1780        8113  \n",
       "9           2390        7570  \n",
       "\n",
       "[10 rows x 21 columns]"
      ]
     },
     "execution_count": 26,
     "metadata": {},
     "output_type": "execute_result"
    }
   ],
   "source": [
    "#Checck if the data is properly replaced with the mean ofthe respective column\n",
    "print(df.isnull().sum())\n",
    "df_nan.head(10)"
   ]
  },
  {
   "cell_type": "code",
   "execution_count": 27,
   "metadata": {},
   "outputs": [],
   "source": [
    "#5 is explanation"
   ]
  },
  {
   "cell_type": "code",
   "execution_count": null,
   "metadata": {},
   "outputs": [],
   "source": []
  },
  {
   "cell_type": "code",
   "execution_count": 28,
   "metadata": {},
   "outputs": [],
   "source": [
    "#6) Regression model\n",
    "#Linear Regression method [y=mx+c]\n",
    "x=df.price.values\n",
    "y=df.sqft_living\n"
   ]
  },
  {
   "cell_type": "code",
   "execution_count": 29,
   "metadata": {},
   "outputs": [
    {
     "name": "stdout",
     "output_type": "stream",
     "text": [
      "0.0017562787815594424 1131.3543927134137\n"
     ]
    }
   ],
   "source": [
    "#to find the value of m and c\n",
    "\n",
    "mean_x=np.mean(x)\n",
    "mean_y=np.mean(y)\n",
    "\n",
    "n=len(x)\n",
    "\n",
    "numer=0\n",
    "denom=0\n",
    "\n",
    "for i in range(n):\n",
    "    numer+=(x[i]-mean_x)*(y[i]-mean_y)\n",
    "    denom+=(x[i]-mean_x)**2\n",
    "b1=numer/denom\n",
    "b2=mean_y-(b1*mean_x)\n",
    "\n",
    "print(b1,b2) #m=b1,c=b2"
   ]
  },
  {
   "cell_type": "code",
   "execution_count": 32,
   "metadata": {},
   "outputs": [
    {
     "data": {
      "image/png": "[encoded data removed]",
      "text/plain": [
       "<Figure size 432x288 with 1 Axes>"
      ]
     },
     "metadata": {},
     "output_type": "display_data"
    }
   ],
   "source": [
    "#to plot the regression model\n",
    "\n",
    "x_min=np.min(x)-10000\n",
    "x_max=np.max(x)+10000\n",
    "\n",
    "xx=np.linspace(x_min,x_max)\n",
    "yy=b1*xx +b2\n",
    "\n",
    "plt.plot(xx,yy)\n",
    "plt.scatter(x,y)\n",
    "plt.legend()\n",
    "plt.show()"
   ]
  },
  {
   "cell_type": "code",
   "execution_count": 33,
   "metadata": {},
   "outputs": [
    {
     "name": "stdout",
     "output_type": "stream",
     "text": [
      "0.49285321790379577\n"
     ]
    }
   ],
   "source": [
    "#to find how efficient is my model\n",
    "\n",
    "ss_t=0\n",
    "ss_r=0\n",
    "\n",
    "for i in range(n):\n",
    "    y_pred=b1*x[i]+b2\n",
    "    ss_t+= (y[i]-mean_y)**2\n",
    "    ss_r +=(y[i]-y_pred)**2\n",
    "r2=1-(ss_r/ss_t)\n",
    "print(r2)"
   ]
  },
  {
   "cell_type": "code",
   "execution_count": null,
   "metadata": {},
   "outputs": [],
   "source": []
  }
 ],
 "metadata": {
  "kernelspec": {
   "display_name": "Python 3",
   "language": "python",
   "name": "python3"
  },
  "language_info": {
   "codemirror_mode": {
    "name": "ipython",
    "version": 3
   },
   "file_extension": ".py",
   "mimetype": "text/x-python",
   "name": "python",
   "nbconvert_exporter": "python",
   "pygments_lexer": "ipython3",
   "version": "3.6.5"
  }
 },
 "nbformat": 4,
 "nbformat_minor": 2
}
